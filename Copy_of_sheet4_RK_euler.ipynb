{
  "nbformat": 4,
  "nbformat_minor": 0,
  "metadata": {
    "colab": {
      "provenance": [],
      "collapsed_sections": [
        "8hnb6KuUWb38"
      ],
      "include_colab_link": true
    },
    "kernelspec": {
      "name": "python3",
      "display_name": "Python 3"
    },
    "language_info": {
      "name": "python"
    }
  },
  "cells": [
    {
      "cell_type": "markdown",
      "metadata": {
        "id": "view-in-github",
        "colab_type": "text"
      },
      "source": [
        "<a href=\"https://colab.research.google.com/github/mennanoseer/alx-low_level_programming/blob/master/Copy_of_sheet4_RK_euler.ipynb\" target=\"_parent\"><img src=\"https://colab.research.google.com/assets/colab-badge.svg\" alt=\"Open In Colab\"/></a>"
      ]
    },
    {
      "cell_type": "markdown",
      "source": [
        "# Q1"
      ],
      "metadata": {
        "id": "8hnb6KuUWb38"
      }
    },
    {
      "cell_type": "code",
      "execution_count": null,
      "metadata": {
        "colab": {
          "base_uri": "https://localhost:8080/"
        },
        "id": "Qtujt6WxBpxG",
        "outputId": "6f8b8c3c-f42b-4207-e49b-4e0f520b336e"
      },
      "outputs": [
        {
          "output_type": "stream",
          "name": "stdout",
          "text": [
            "+------+-----+--------------------+---------+\n",
            "|  x   |  y  |       Exact        |  Error  |\n",
            "+------+-----+--------------------+---------+\n",
            "| 0.0  | 2.0 |        2.0         |   0.0   |\n",
            "| 0.50 | 3.0 | 3.2974425414002564 |  3.e-01 |\n",
            "| 1.00 | 4.5 |  5.43656365691809  | 9.4e-01 |\n",
            "+------+-----+--------------------+---------+\n"
          ]
        }
      ],
      "source": [
        "import numpy as np\n",
        "from prettytable import PrettyTable\n",
        "\n",
        "f = lambda x, y: y                   # Define a lambda function for f(x, y) = 2e^x\n",
        "h = 0.5                              # Define the step size\n",
        "x = np.arange(0, 1+h, h)             # Create an array of x values from 0 to 1 with step h\n",
        "y0 = 2                               # Set the initial value of y to 2\n",
        "y = np.zeros(len(x))                         \n",
        "y[0] = y0  \n",
        "\n",
        "table = PrettyTable(['x', 'y', 'Exact', 'Error'])\n",
        "table.add_row([x[0], y[0], 2 * np.exp(x[0]), abs(2 * np.exp(x[0]) - y[0])])\n",
        "\n",
        "y = np.zeros(len(x))                   # Create an array of zeros with the same length as x for y values\n",
        "y[0] = y0                              # Set the first value of y to y0\n",
        "for i in range(0, len(x) - 1):         # Loop through each x value (except the last one)\n",
        "    y[i + 1] = y[i] + h*f(x[i], y[i])  # Calculate the next y value using the Euler's method\n",
        "    exact = 2 * np.exp(x[i+1]) \n",
        "    error = abs(exact - y[i+1]) \n",
        "    table.add_row([f\"{x[i+1]:.2f}\", y[i+1], exact, np.format_float_scientific(error, 1)])\n",
        "print(table)"
      ]
    },
    {
      "cell_type": "markdown",
      "source": [
        "# Q2"
      ],
      "metadata": {
        "id": "ew7uSpaNhQzX"
      }
    },
    {
      "cell_type": "markdown",
      "source": [
        "## a)"
      ],
      "metadata": {
        "id": "wKiVcJY2hpc7"
      }
    },
    {
      "cell_type": "code",
      "source": [
        "import numpy as np\n",
        "from prettytable import PrettyTable\n",
        "\n",
        "f = lambda x, y: -2*y                # Define a lambda function for f(x, y) = 2e^x\n",
        "h = 0.2                              # Define the step size\n",
        "x = np.arange(0, 1+h, h)             # Create an array of x values from 0 to 1 with step h\n",
        "y0 = 4                               # Set the initial value of y to 2\n",
        "y = np.zeros(len(x))                         \n",
        "y[0] = y0  \n",
        "\n",
        "table = PrettyTable(['x', 'y'])\n",
        "table.add_row ([x[0], y[0]])\n",
        "\n",
        "y = np.zeros(len(x))                   # Create an array of zeros with the same length as x for y values\n",
        "y[0] = y0                              # Set the first value of y to y0\n",
        "for i in range(0, len(x) - 1):         # Loop through each x value (except the last one)\n",
        "    y[i + 1] = y[i] + h*f(x[i], y[i])  # Calculate the next y value using the Euler's method\n",
        "     \n",
        "    table.add_row([f\"{x[i+1]:.2f}\", y[i+1]])\n",
        "print(table)"
      ],
      "metadata": {
        "id": "9Vug8vIId4-1",
        "outputId": "d16b81b4-8e4b-41b7-8b0e-02289773a7f5",
        "colab": {
          "base_uri": "https://localhost:8080/"
        }
      },
      "execution_count": 13,
      "outputs": [
        {
          "output_type": "stream",
          "name": "stdout",
          "text": [
            "+------+---------+\n",
            "|  x   |    y    |\n",
            "+------+---------+\n",
            "| 0.0  |   4.0   |\n",
            "| 0.20 |   2.4   |\n",
            "| 0.40 |   1.44  |\n",
            "| 0.60 |  0.864  |\n",
            "| 0.80 |  0.5184 |\n",
            "| 1.00 | 0.31104 |\n",
            "+------+---------+\n"
          ]
        }
      ]
    },
    {
      "cell_type": "markdown",
      "source": [
        "## b)"
      ],
      "metadata": {
        "id": "dL2CitE0hw7L"
      }
    },
    {
      "cell_type": "code",
      "source": [
        "import numpy as np\n",
        "from prettytable import PrettyTable\n",
        "\n",
        "f = lambda x, y: -np.cos(x) * y                # Define a lambda function for f(x, y) = 2e^x\n",
        "h = 0.2                              # Define the step size\n",
        "x = np.arange(0, 1.2+h, h)             # Create an array of x values from 0 to 1 with step h\n",
        "y0 = 2                               # Set the initial value of y to 2\n",
        "y = np.zeros(len(x))                         \n",
        "y[0] = y0  \n",
        "\n",
        "table = PrettyTable(['x', 'y'])\n",
        "table.add_row([x[0], y[0]])\n",
        "\n",
        "y = np.zeros(len(x))                   # Create an array of zeros with the same length as x for y values\n",
        "y[0] = y0                              # Set the first value of y to y0\n",
        "for i in range(0, len(x) - 1):         # Loop through each x value (except the last one)\n",
        "    y[i + 1] = y[i] + h*f(x[i], y[i])  # Calculate the next y value using the Euler's method\n",
        "     \n",
        "    table.add_row([f\"{x[i+1]:.2f}\", y[i+1]])\n",
        "print(table)"
      ],
      "metadata": {
        "colab": {
          "base_uri": "https://localhost:8080/"
        },
        "id": "Tq9LN2bLh1lc",
        "outputId": "a3a8e0c7-c31f-468f-afb7-21db1456b5f9"
      },
      "execution_count": 15,
      "outputs": [
        {
          "output_type": "stream",
          "name": "stdout",
          "text": [
            "+------+--------------------+\n",
            "|  x   |         y          |\n",
            "+------+--------------------+\n",
            "| 0.0  |        2.0         |\n",
            "| 0.20 |        1.6         |\n",
            "| 0.40 | 1.2863786950908027 |\n",
            "| 0.60 | 1.049412047177909  |\n",
            "| 0.80 | 0.8761886197276681 |\n",
            "| 1.00 | 0.7540993217240884 |\n",
            "| 1.20 | 0.6726110012478634 |\n",
            "+------+--------------------+\n"
          ]
        }
      ]
    },
    {
      "cell_type": "markdown",
      "source": [
        "## c)"
      ],
      "metadata": {
        "id": "7t5lGA2TjYyI"
      }
    },
    {
      "cell_type": "code",
      "source": [
        "import numpy as np\n",
        "from prettytable import PrettyTable\n",
        "\n",
        "f = lambda x, y: -(np.e**x) * y               # Define a lambda function for f(x, y) = 2e^x\n",
        "h = 0.2                              # Define the step size\n",
        "x = np.arange(0, 1+h, h)             # Create an array of x values from 0 to 1 with step h\n",
        "y0 = 3                               # Set the initial value of y to 2\n",
        "y = np.zeros(len(x))                         \n",
        "y[0] = y0  \n",
        "\n",
        "table = PrettyTable(['x', 'y'])\n",
        "table.add_row([x[0], y[0]])\n",
        "\n",
        "y = np.zeros(len(x))                   # Create an array of zeros with the same length as x for y values\n",
        "y[0] = y0                              # Set the first value of y to y0\n",
        "for i in range(0, len(x) - 1):         # Loop through each x value (except the last one)\n",
        "    y[i + 1] = y[i] + h*f(x[i], y[i])  # Calculate the next y value using the Euler's method\n",
        "     \n",
        "    table.add_row([f\"{x[i+1]:.2f}\", y[i+1]])\n",
        "print(table)"
      ],
      "metadata": {
        "colab": {
          "base_uri": "https://localhost:8080/"
        },
        "id": "9jPpXjaljkHL",
        "outputId": "083d2452-7701-4cd7-bd14-bc3bb7129ae6"
      },
      "execution_count": 16,
      "outputs": [
        {
          "output_type": "stream",
          "name": "stdout",
          "text": [
            "+------+---------------------+\n",
            "|  x   |          y          |\n",
            "+------+---------------------+\n",
            "| 0.0  |         3.0         |\n",
            "| 0.20 |         2.4         |\n",
            "| 0.40 |  1.8137266760831183 |\n",
            "| 0.60 |  1.2725742260527975 |\n",
            "| 0.80 |  0.8088179416161567 |\n",
            "| 1.00 | 0.44880645506299915 |\n",
            "+------+---------------------+\n"
          ]
        }
      ]
    },
    {
      "cell_type": "code",
      "source": [],
      "metadata": {
        "id": "uiodPW40nthH"
      },
      "execution_count": null,
      "outputs": []
    },
    {
      "cell_type": "markdown",
      "source": [
        "## d)"
      ],
      "metadata": {
        "id": "TbfQpzUzkcf5"
      }
    },
    {
      "cell_type": "code",
      "source": [
        "import numpy as np\n",
        "from prettytable import PrettyTable\n",
        "\n",
        "f = lambda x, y: -(4*x**3) * y               # Define a lambda function for f(x, y) = 2e^x\n",
        "h = 0.2                              # Define the step size\n",
        "x = np.arange(1, 2+h, h)             # Create an array of x values from 0 to 1 with step h\n",
        "y1 = 1                               # Set the initial value of y to 2\n",
        "y = np.zeros(len(x))                         \n",
        "y[0] = y1  \n",
        "\n",
        "table = PrettyTable(['x', 'y'])\n",
        "table.add_row([x[0], y[0]])\n",
        "\n",
        "y = np.zeros(len(x))                   # Create an array of zeros with the same length as x for y values\n",
        "y[0] = y1                              # Set the first value of y to y0\n",
        "for i in range(0, len(x) - 1):         # Loop through each x value (except the last one)\n",
        "    y[i + 1] = y[i] + h*f(x[i], y[i])  # Calculate the next y value using the Euler's method\n",
        "   \n",
        "    table.add_row([f\"{x[i+1]:.2f}\", y[i+1]])\n",
        "print(table)"
      ],
      "metadata": {
        "colab": {
          "base_uri": "https://localhost:8080/"
        },
        "id": "cBl9HGL3kiQh",
        "outputId": "747779c3-f53c-4d52-e956-4f0a9d1b4149"
      },
      "execution_count": 23,
      "outputs": [
        {
          "output_type": "stream",
          "name": "stdout",
          "text": [
            "+------+----------------------+\n",
            "|  x   |          y           |\n",
            "+------+----------------------+\n",
            "| 1.0  |         1.0          |\n",
            "| 1.20 | 0.19999999999999996  |\n",
            "| 1.40 | -0.07647999999999994 |\n",
            "| 1.60 | 0.09140889599999988  |\n",
            "| 1.80 | -0.2081197744127997  |\n",
            "| 2.00 |  0.7628838450875581  |\n",
            "| 2.20 |  -4.119572763472814  |\n",
            "+------+----------------------+\n"
          ]
        }
      ]
    },
    {
      "cell_type": "markdown",
      "source": [
        "# Q3 using n = 32"
      ],
      "metadata": {
        "id": "YTFg9UbF-Mk5"
      }
    },
    {
      "cell_type": "code",
      "source": [
        "import numpy as np\n",
        "from prettytable import PrettyTable\n",
        "\n",
        "f = lambda x, y: -(1/(1+x))*y                   # Define a lambda function for f(x, y) = 2e^x\n",
        "h = 0.05                              # Define the step size\n",
        "x = np.arange(0, 1.6+h, h)             # Create an array of x values from 0 to 1 with step h\n",
        "y0 = 1                               # Set the initial value of y to 2\n",
        "y = np.zeros(len(x))                         \n",
        "y[0] = y0  \n",
        "\n",
        "table = PrettyTable(['x', 'y', 'Exact', 'Error'])\n",
        "table.add_row([x[0], y[0], 1/(1+(x[0])), abs(1/(1+(x[0])) - y[0])])\n",
        "\n",
        "y = np.zeros(len(x))                   # Create an array of zeros with the same length as x for y values\n",
        "y[0] = y0                              # Set the first value of y to y0\n",
        "for i in range(0, len(x) - 1):         # Loop through each x value (except the last one)\n",
        "    y[i + 1] = y[i] + h*f(x[i], y[i])  # Calculate the next y value using the Euler's method\n",
        "    exact = 1/(1+ x[i+1]) \n",
        "    error = abs(exact - y[i+1]) \n",
        "    table.add_row([f\"{x[i+1]:.2f}\", y[i+1], exact, np.format_float_scientific(error, 1)])\n",
        "print(table)"
      ],
      "metadata": {
        "colab": {
          "base_uri": "https://localhost:8080/"
        },
        "id": "mN4U2r00-TJi",
        "outputId": "97fecf8b-05d3-4dd0-88de-d2c098bdf99d"
      },
      "execution_count": 24,
      "outputs": [
        {
          "output_type": "stream",
          "name": "stdout",
          "text": [
            "+------+---------------------+---------------------+---------+\n",
            "|  x   |          y          |        Exact        |  Error  |\n",
            "+------+---------------------+---------------------+---------+\n",
            "| 0.0  |         1.0         |         1.0         |   0.0   |\n",
            "| 0.05 |         0.95        |  0.9523809523809523 | 2.4e-03 |\n",
            "| 0.10 |  0.9047619047619048 |  0.9090909090909091 | 4.3e-03 |\n",
            "| 0.15 |  0.8636363636363636 |  0.8695652173913044 | 5.9e-03 |\n",
            "| 0.20 |  0.8260869565217391 |  0.8333333333333334 | 7.2e-03 |\n",
            "| 0.25 |  0.7916666666666666 |         0.8         | 8.3e-03 |\n",
            "| 0.30 |         0.76        |  0.7692307692307692 | 9.2e-03 |\n",
            "| 0.35 |  0.7307692307692308 |  0.7407407407407407 |  1.e-02 |\n",
            "| 0.40 |  0.7037037037037037 |  0.7142857142857143 | 1.1e-02 |\n",
            "| 0.45 |  0.6785714285714286 |  0.6896551724137931 | 1.1e-02 |\n",
            "| 0.50 |  0.6551724137931034 |  0.6666666666666666 | 1.1e-02 |\n",
            "| 0.55 |  0.6333333333333333 |  0.6451612903225806 | 1.2e-02 |\n",
            "| 0.60 |  0.6129032258064516 |        0.625        | 1.2e-02 |\n",
            "| 0.65 |       0.59375       |  0.6060606060606061 | 1.2e-02 |\n",
            "| 0.70 |  0.5757575757575758 |  0.588235294117647  | 1.2e-02 |\n",
            "| 0.75 |  0.5588235294117647 |  0.5714285714285714 | 1.3e-02 |\n",
            "| 0.80 |  0.5428571428571429 |  0.5555555555555556 | 1.3e-02 |\n",
            "| 0.85 |  0.5277777777777779 |  0.5405405405405405 | 1.3e-02 |\n",
            "| 0.90 |  0.5135135135135136 |  0.5263157894736842 | 1.3e-02 |\n",
            "| 0.95 |  0.5000000000000001 |  0.5128205128205128 | 1.3e-02 |\n",
            "| 1.00 |  0.4871794871794873 |         0.5         | 1.3e-02 |\n",
            "| 1.05 |  0.4750000000000001 | 0.48780487804878053 | 1.3e-02 |\n",
            "| 1.10 | 0.46341463414634154 | 0.47619047619047616 | 1.3e-02 |\n",
            "| 1.15 | 0.45238095238095244 |  0.4651162790697674 | 1.3e-02 |\n",
            "| 1.20 | 0.44186046511627913 | 0.45454545454545453 | 1.3e-02 |\n",
            "| 1.25 |  0.4318181818181819 |  0.4444444444444444 | 1.3e-02 |\n",
            "| 1.30 |  0.4222222222222223 |  0.4347826086956522 | 1.3e-02 |\n",
            "| 1.35 |  0.4130434782608696 |  0.425531914893617  | 1.2e-02 |\n",
            "| 1.40 |  0.4042553191489362 | 0.41666666666666663 | 1.2e-02 |\n",
            "| 1.45 | 0.39583333333333337 |  0.4081632653061224 | 1.2e-02 |\n",
            "| 1.50 | 0.38775510204081637 |         0.4         | 1.2e-02 |\n",
            "| 1.55 | 0.38000000000000006 |  0.3921568627450981 | 1.2e-02 |\n",
            "| 1.60 |  0.3725490196078432 |  0.3846153846153846 | 1.2e-02 |\n",
            "+------+---------------------+---------------------+---------+\n"
          ]
        }
      ]
    },
    {
      "cell_type": "markdown",
      "source": [
        "# Q6"
      ],
      "metadata": {
        "id": "TlWRKE0yARX9"
      }
    },
    {
      "cell_type": "markdown",
      "source": [
        "## a)"
      ],
      "metadata": {
        "id": "oZ7t9l8UAW1S"
      }
    },
    {
      "cell_type": "code",
      "source": [
        "import numpy as np\n",
        "from prettytable import PrettyTable\n",
        "\n",
        "f = lambda x, y: -2*y                     \n",
        "h = 0.25                                      \n",
        "x = np.arange(0, 1 + h, h)                   \n",
        "y0 = 4                                      \n",
        "\n",
        "y = np.zeros(len(x))                         \n",
        "y[0] = y0                                    \n",
        "\n",
        "table = PrettyTable(['x', 'k1', 'k2', 'y'])\n",
        "table.add_row([x[0], \"-\", \"-\", y[0]])\n",
        "\n",
        "for i in range(1, len(x)):\n",
        "    k1 =  f(x[i-1], y[i-1])\n",
        "    k2 = f(x[i-1] + h/2, y[i-1] + h/2*k1)\n",
        "    y[i] = y[i-1] + h*k2\n",
        "    \n",
        "    table.add_row([f\"{x[i]:.2f}\", k1, k2, y[i]])\n",
        "\n",
        "print(table)"
      ],
      "metadata": {
        "colab": {
          "base_uri": "https://localhost:8080/"
        },
        "id": "1spR5n_KAa47",
        "outputId": "207912d0-cae2-464d-815e-c3736a6b13e7"
      },
      "execution_count": 25,
      "outputs": [
        {
          "output_type": "stream",
          "name": "stdout",
          "text": [
            "+------+-----------+-------------+--------------+\n",
            "|  x   |     k1    |      k2     |      y       |\n",
            "+------+-----------+-------------+--------------+\n",
            "| 0.0  |     -     |      -      |     4.0      |\n",
            "| 0.25 |    -8.0   |     -6.0    |     2.5      |\n",
            "| 0.50 |    -5.0   |    -3.75    |    1.5625    |\n",
            "| 0.75 |   -3.125  |   -2.34375  |  0.9765625   |\n",
            "| 1.00 | -1.953125 | -1.46484375 | 0.6103515625 |\n",
            "+------+-----------+-------------+--------------+\n"
          ]
        }
      ]
    },
    {
      "cell_type": "markdown",
      "source": [
        "# Q8"
      ],
      "metadata": {
        "id": "X5jlNMczWjSB"
      }
    },
    {
      "cell_type": "code",
      "source": [
        "import numpy as np\n",
        "\n",
        "f = lambda x, y: np.exp(x**2)-(y/x)           # Define a lambda function for f(x, y) \n",
        "h = 0.25                               # Define the step size\n",
        "x = np.arange(1, 2 + h, h)             # Create an array of x values from 1 to 2 with step h\n",
        "y0 =   (np.exp(1))/2                              # Set the initial value of y\n",
        "\n",
        "y = np.zeros(len(x))                         \n",
        "y[0] = y0                                    \n",
        "\n",
        "table = PrettyTable(['x', 'k1', 'k2', 'y', 'Exact', 'Error'])\n",
        "table.add_row([x[0], \"-\", \"-\", y[0], y[0], 0])\n",
        "\n",
        "for i in range(1, len(x)):\n",
        "    k1 =  f(x[i-1], y[i-1])\n",
        "    k2 = f(x[i-1] + h/2, y[i-1] + h/2*k1)\n",
        "    y[i] = y[i-1] + h*k2\n",
        "    exact = (1/(2*x[i]))* np.exp(x[i]**2)\n",
        "    error = abs(exact - y[i])\n",
        "    table.add_row([f\"{x[i]:.2f}\", k1, k2, y[i], exact, error])\n",
        "\n",
        "print(table)"
      ],
      "metadata": {
        "colab": {
          "base_uri": "https://localhost:8080/"
        },
        "id": "dBJwL4tMMsz8",
        "outputId": "3ddc3455-b722-41fd-c288-7d072e93b8d2"
      },
      "execution_count": null,
      "outputs": [
        {
          "output_type": "stream",
          "name": "stdout",
          "text": [
            "+------+--------------------+--------------------+--------------------+--------------------+-----------------------+\n",
            "|  x   |         k1         |         k2         |         y          |       Exact        |         Error         |\n",
            "+------+--------------------+--------------------+--------------------+--------------------+-----------------------+\n",
            "| 1.0  |         -          |         -          | 1.3591409142295225 | 1.3591409142295225 |           0           |\n",
            "| 1.25 | 1.3591409142295225 | 2.1861669469940184 | 1.9056826509780271 | 1.9082932727870412 | 0.0026106218090140576 |\n",
            "| 1.50 | 3.246187061185181  | 4.9424481460372505 | 3.1412946874873398 | 3.1625786121195087 |  0.021283924632168993 |\n",
            "| 1.75 | 7.393539378033633  | 11.520126376133152 | 6.021326281520627  | 6.108840788320955  |  0.08751450680032757  |\n",
            "| 2.00 | 17.940184883968698 | 29.229558103445278 | 13.328715807381947 | 13.649537508286059 |   0.3208217009041121  |\n",
            "+------+--------------------+--------------------+--------------------+--------------------+-----------------------+\n"
          ]
        }
      ]
    }
  ]
}